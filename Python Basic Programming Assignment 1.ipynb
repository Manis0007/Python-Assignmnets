{
 "cells": [
  {
   "cell_type": "markdown",
   "id": "4ab02370",
   "metadata": {},
   "source": [
    "# 1.\tWrite a Python program to print \"Hello Python\"?"
   ]
  },
  {
   "cell_type": "code",
   "execution_count": 1,
   "id": "12a7058f",
   "metadata": {},
   "outputs": [
    {
     "name": "stdout",
     "output_type": "stream",
     "text": [
      "Hello Python\n"
     ]
    }
   ],
   "source": [
    "print(\"Hello Python\")"
   ]
  },
  {
   "cell_type": "markdown",
   "id": "b9db7e54",
   "metadata": {},
   "source": [
    "# 2.\tWrite a Python program to do arithmetical operations addition and division.?"
   ]
  },
  {
   "cell_type": "code",
   "execution_count": 22,
   "id": "44276a8f",
   "metadata": {},
   "outputs": [],
   "source": [
    "def add_div(n, m):\n",
    "    a = (input(print('what calculation you have to do addition or Division.  For Addition choose + and for Divison choose'))\n",
    "                    ).capitalize()\n",
    "    if a == 'A' :\n",
    "        print(\"Addition = \", n+m)\n",
    "    elif a == 'D' :\n",
    "        print(\"Division = \", n/m)\n",
    "    else :\n",
    "        print(\"pass invalid key\")"
   ]
  },
  {
   "cell_type": "code",
   "execution_count": 24,
   "id": "65d914ff",
   "metadata": {},
   "outputs": [
    {
     "name": "stdout",
     "output_type": "stream",
     "text": [
      "what calculation you have to do addition or Division.  For Addition choose + and for Divison choose\n",
      "Nonea\n",
      "Addition =  30\n"
     ]
    }
   ],
   "source": [
    "add_div(10,20)"
   ]
  },
  {
   "cell_type": "markdown",
   "id": "4668e2ea",
   "metadata": {},
   "source": [
    "# 3.\tWrite a Python program to find the area of a triangle?"
   ]
  },
  {
   "cell_type": "code",
   "execution_count": 20,
   "id": "7008e9fd",
   "metadata": {},
   "outputs": [],
   "source": [
    "def are_of_triangle(l, b):\n",
    "    print(\"area of triangle = \", 1/2 * l*b)"
   ]
  },
  {
   "cell_type": "code",
   "execution_count": 21,
   "id": "cd7c6981",
   "metadata": {},
   "outputs": [
    {
     "name": "stdout",
     "output_type": "stream",
     "text": [
      "area of triangle =  100.0\n"
     ]
    }
   ],
   "source": [
    "are_of_triangle(10,20)"
   ]
  },
  {
   "cell_type": "markdown",
   "id": "f6066796",
   "metadata": {},
   "source": [
    "# 4.\tWrite a Python program to swap two variables?"
   ]
  },
  {
   "cell_type": "code",
   "execution_count": 31,
   "id": "a153bb99",
   "metadata": {},
   "outputs": [],
   "source": [
    "def swap(a, b):\n",
    "    a, b = b, a\n",
    "    print(a , b )"
   ]
  },
  {
   "cell_type": "code",
   "execution_count": 33,
   "id": "8b5c2e07",
   "metadata": {},
   "outputs": [
    {
     "name": "stdout",
     "output_type": "stream",
     "text": [
      "20 10\n"
     ]
    }
   ],
   "source": [
    "swap(10,20)"
   ]
  },
  {
   "cell_type": "code",
   "execution_count": 34,
   "id": "3beb6604",
   "metadata": {},
   "outputs": [],
   "source": [
    "import random"
   ]
  },
  {
   "cell_type": "code",
   "execution_count": 38,
   "id": "c84839e2",
   "metadata": {},
   "outputs": [
    {
     "name": "stdout",
     "output_type": "stream",
     "text": [
      "0.2521823480149674\n"
     ]
    }
   ],
   "source": [
    "print(random.random())"
   ]
  },
  {
   "cell_type": "markdown",
   "id": "e7b999fe",
   "metadata": {},
   "source": [
    "# 5.\tWrite a Python program to generate a random number?"
   ]
  },
  {
   "cell_type": "code",
   "execution_count": 41,
   "id": "0c0f31fb",
   "metadata": {},
   "outputs": [],
   "source": [
    "def random_no(n):\n",
    "    print(random.randrange(n))\n",
    "    "
   ]
  },
  {
   "cell_type": "code",
   "execution_count": 42,
   "id": "74b93fd9",
   "metadata": {},
   "outputs": [
    {
     "name": "stdout",
     "output_type": "stream",
     "text": [
      "4\n"
     ]
    }
   ],
   "source": [
    "random_no(10)"
   ]
  },
  {
   "cell_type": "code",
   "execution_count": null,
   "id": "a8cfe4a0",
   "metadata": {},
   "outputs": [],
   "source": []
  }
 ],
 "metadata": {
  "kernelspec": {
   "display_name": "Python 3 (ipykernel)",
   "language": "python",
   "name": "python3"
  },
  "language_info": {
   "codemirror_mode": {
    "name": "ipython",
    "version": 3
   },
   "file_extension": ".py",
   "mimetype": "text/x-python",
   "name": "python",
   "nbconvert_exporter": "python",
   "pygments_lexer": "ipython3",
   "version": "3.9.7"
  }
 },
 "nbformat": 4,
 "nbformat_minor": 5
}
